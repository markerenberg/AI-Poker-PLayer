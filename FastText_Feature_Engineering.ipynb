{
  "nbformat": 4,
  "nbformat_minor": 0,
  "metadata": {
    "colab": {
      "name": "FastText Feature Engineering.ipynb",
      "provenance": [],
      "collapsed_sections": [],
      "include_colab_link": true
    },
    "kernelspec": {
      "name": "python3",
      "display_name": "Python 3"
    },
    "accelerator": "TPU"
  },
  "cells": [
    {
      "cell_type": "markdown",
      "metadata": {
        "id": "view-in-github",
        "colab_type": "text"
      },
      "source": [
        "<a href=\"https://colab.research.google.com/github/markerenberg/AI-Poker-Player/blob/master/FastText_Feature_Engineering.ipynb\" target=\"_parent\"><img src=\"https://colab.research.google.com/assets/colab-badge.svg\" alt=\"Open In Colab\"/></a>"
      ]
    },
    {
      "cell_type": "code",
      "metadata": {
        "id": "_6AvEhk7_upV",
        "colab_type": "code",
        "outputId": "bc2677dd-da6a-4ba5-8b21-7064299ad724",
        "colab": {
          "base_uri": "https://localhost:8080/",
          "height": 34
        }
      },
      "source": [
        "# Check if GPU is enabled\n",
        "import tensorflow as tf\n",
        "tf.test.gpu_device_name()"
      ],
      "execution_count": 0,
      "outputs": [
        {
          "output_type": "execute_result",
          "data": {
            "text/plain": [
              "''"
            ]
          },
          "metadata": {
            "tags": []
          },
          "execution_count": 1
        }
      ]
    },
    {
      "cell_type": "code",
      "metadata": {
        "id": "GHXV-Uu90Ldo",
        "colab_type": "code",
        "outputId": "e402ed1d-26e9-4676-c145-d5deb49850c4",
        "colab": {
          "base_uri": "https://localhost:8080/",
          "height": 187
        }
      },
      "source": [
        "##\n",
        "## =======================================================\n",
        "## Mark Erenberg \n",
        "## Toxic Comment Classification Challenge\n",
        "## =======================================================\n",
        "##\n",
        "\n",
        "# Objective: Create a model which predicts a probability of each type of toxicity for each comment.\n",
        "\n",
        "# import dependencies and files\n",
        "\n",
        "import os\n",
        "import time\n",
        "import pandas as pd\n",
        "import numpy as np\n",
        "from scipy import sparse\n",
        "import itertools\n",
        "import matplotlib.pyplot as plt\n",
        "import re\n",
        "\n",
        "import lightgbm as lgb\n",
        "\n",
        "import nltk\n",
        "from nltk.stem.snowball import SnowballStemmer\n",
        "from nltk.stem import WordNetLemmatizer\n",
        "from nltk.corpus import wordnet\n",
        "from nltk import pos_tag, word_tokenize\n",
        "\n",
        "import gensim\n",
        "import gensim.models.keyedvectors as word2vec\n",
        "from gensim.models.fasttext import FastText\n",
        "\n",
        "import spacy\n",
        "import en_core_web_sm\n",
        "#spacy_nlp = en_core_web_sm.load()\n",
        "#spacy_nlp = spacy.load('en_core_web_sm')\n",
        "\n",
        "from collections import Counter, defaultdict\n",
        "\n",
        "from sklearn import utils\n",
        "from sklearn.feature_extraction.text import CountVectorizer, TfidfVectorizer\n",
        "from sklearn.model_selection import StratifiedKFold\n",
        "from sklearn.linear_model import LogisticRegression\n",
        "from sklearn.metrics import precision_score, recall_score, accuracy_score, roc_auc_score\n",
        "\n",
        "from keras.preprocessing.text import Tokenizer\n",
        "from keras.preprocessing.sequence import pad_sequences\n",
        "from keras.layers import Dense, Input, LSTM, Embedding, Dropout, Activation\n",
        "from keras.layers import Bidirectional, GlobalMaxPool1D\n",
        "from keras.models import Model\n",
        "from keras import initializers, regularizers, constraints, optimizers, layers\n",
        "from keras.optimizers import Adam\n",
        "from keras.callbacks import Callback\n",
        "\n",
        "################### Data Loading ###################\n",
        "#os.chdir('C:\\\\Users\\\\marke\\\\Downloads\\\\Toxic Classification')\n",
        "train = pd.read_csv('train.csv').fillna(' ')\n",
        "test = pd.read_csv('test.csv').fillna(' ')\n",
        "\n",
        "train_text = train[['id','comment_text']].drop_duplicates()\n",
        "df = pd.concat([train_text,test],ignore_index=True)\n",
        "\n",
        "################### Data Cleaning ####################\n",
        "nltk.download('stopwords')\n",
        "nltk.download('wordnet')\n",
        "nltk.download('averaged_perceptron_tagger')\n",
        "nltk.download('punkt')\n",
        "\n",
        "wpt = nltk.WordPunctTokenizer()\n",
        "stop_words = nltk.corpus.stopwords.words('english')\n",
        "cv = CountVectorizer(min_df=0., max_df=1.)\n",
        "stemmer = SnowballStemmer(\"english\")\n",
        "wnl = WordNetLemmatizer()\n",
        "\n",
        "\n",
        "# Simple way to get the number of occurence of a regex\n",
        "def count_regexp_occ(regexp=\"\", text=None):\n",
        "    return len(re.findall(regexp, text))\n",
        "\n",
        "# Determine if file words exist:\n",
        "#print(len(df[df['comment_text'].str.contains('jpg')]))\n",
        "#print(len(df[df['comment_text'].str.contains('jpeg')]))\n",
        "#print(len(df[df['comment_text'].str.contains('http')]))\n",
        "#print(len(df[df['comment_text'].str.contains('pdf')]))\n",
        "#print(len(df[df['comment_text'].str.contains('html')]))\n",
        "\n",
        "# Remove non-alphabetic characters and split tokens by spaces/newlines\n",
        "def clean_document(doc):\n",
        "    # 1) Convert string to lower\n",
        "    #doc = bytes(doc.lower(), encoding=\"utf-8\")\n",
        "    doc = doc.lower()\n",
        "    # 2) Replace contracion patterns\n",
        "    cont_patterns = [\n",
        "    (r'(W|w)on\\'t', r'will not'),\n",
        "    (r'(C|c)an\\'t', r'can not'),\n",
        "    (r'(I|i)\\'m', r'i am'),\n",
        "    (r'(A|a)in\\'t', r'is not'),\n",
        "    (r'(\\w+)\\'ll', r'\\g<1> will'),\n",
        "    (r'(\\w+)n\\'t', r'\\g<1> not'),\n",
        "    (r'(\\w+)\\'ve', r'\\g<1> have'),\n",
        "    (r'(\\w+)\\'s', r'\\g<1> is'),\n",
        "    (r'(\\w+)\\'re', r'\\g<1> are'),\n",
        "    (r'(\\w+)\\'d', r'\\g<1> would'),\n",
        "    ]\n",
        "    patterns = [(re.compile(regex), repl) for (regex, repl) in cont_patterns]\n",
        "    for (pattern, repl) in patterns:\n",
        "        doc = re.sub(pattern, repl, doc)\n",
        "    # 3) Remove special characters\\whitespaces\n",
        "    doc = re.sub(r'[^a-zA-Z\\s]+', '', doc)\n",
        "    #doc = doc.encode('utf-8')\n",
        "    #doc = str(doc,'utf-8').strip()\n",
        "    doc = doc.strip()\n",
        "    # tokenize document\n",
        "    tokens = wpt.tokenize(doc)\n",
        "    # filter stopwords out of document\n",
        "    filtered_tokens = [token for token in tokens if token not in stop_words]\n",
        "    # re-create document from filtered tokens\n",
        "    doc = ' '.join(filtered_tokens)\n",
        "    #doc = ' '.join(tokens)\n",
        "    return doc\n",
        "\n",
        "# POS tagging for lemmatizer\n",
        "def get_wordnet_pos(tag):\n",
        "        \"\"\"\n",
        "        return WORDNET POS compliance to WORDENT lemmatization (a,n,r,v) \n",
        "        \"\"\"\n",
        "        if tag.startswith('J'):\n",
        "            return wordnet.ADJ\n",
        "        elif tag.startswith('V'):\n",
        "            return wordnet.VERB\n",
        "        elif tag.startswith('N'):\n",
        "            return wordnet.NOUN\n",
        "        elif tag.startswith('R'):\n",
        "            return wordnet.ADV\n",
        "        else:\n",
        "            # As default pos in lemmatization is Noun\n",
        "            return wordnet.NOUN\n",
        "\n",
        "\n",
        "# Stem tokens (UNUSED):\n",
        "def stem_comment(comment):\n",
        "    return [stemmer.stem(word) for word in comment]\n",
        "        \n",
        "# Lemmaitze comments:\n",
        "# NOTE: POS_TAG was changed to V for all of them because it's the only one that works\n",
        "def lemmatize_comment(comment):\n",
        "        comment_list = comment.split()\n",
        "        pos = nltk.pos_tag(comment_list)\n",
        "        lemmatized = [wnl.lemmatize(word,'v') for (word,pos_t) in pos]\n",
        "        return lemmatized            \n",
        "                \n",
        "\n",
        "df['clean_comments'] = [clean_document(x) for x in df['comment_text']]\n",
        "df['clean_comments_list'] = df['clean_comments'].apply(lambda x: x.split())\n",
        "train['clean_comments'] = [clean_document(x) for x in train['comment_text']]\n",
        "train['clean_comments_list'] = train['clean_comments'].apply(lambda x: x.split())\n",
        "\n",
        "# train['clean_lemmed'] = [lemmatize_comment(x) for x in train['clean_comments']]\n",
        "# train['clean_lemmed'] = [x.drop_duplicates() for x in train['clean_lemmed']]\n",
        "\n",
        "class_names = ['toxic', 'severe_toxic', 'obscene', 'threat', 'insult', 'identity_hate']"
      ],
      "execution_count": 2,
      "outputs": [
        {
          "output_type": "stream",
          "text": [
            "[nltk_data] Downloading package stopwords to /root/nltk_data...\n",
            "[nltk_data]   Package stopwords is already up-to-date!\n",
            "[nltk_data] Downloading package wordnet to /root/nltk_data...\n",
            "[nltk_data]   Package wordnet is already up-to-date!\n",
            "[nltk_data] Downloading package averaged_perceptron_tagger to\n",
            "[nltk_data]     /root/nltk_data...\n",
            "[nltk_data]   Package averaged_perceptron_tagger is already up-to-\n",
            "[nltk_data]       date!\n",
            "[nltk_data] Downloading package punkt to /root/nltk_data...\n",
            "[nltk_data]   Package punkt is already up-to-date!\n"
          ],
          "name": "stdout"
        }
      ]
    },
    {
      "cell_type": "code",
      "metadata": {
        "id": "1sbOvZ2H_I4J",
        "colab_type": "code",
        "colab": {}
      },
      "source": [
        "## ========== Feature Engineering=====================\n",
        "\n",
        "# Set values for various parameters\n",
        "feature_size = 300    # Word vector dimensionality  \n",
        "window_context = 10          # Context window size                                                                                    \n",
        "min_word_count = 5   # Minimum word count                        \n",
        "sample = 1e-3   # Which higher-frequency words are randomly downsampled\n",
        "sg = 1          # sg {0,1} = 1 if skip-gram, 0 if CBOW,\n",
        "epochs = 50     # epochs = number of training epochs over corpus (default 5)\n",
        "\n",
        "tokenized_corpus = df['clean_comments_list']\n",
        "\n",
        "# Fit FastText model on pre-processed corpus\n",
        "start_time = time.time()\n",
        "ft_model = FastText(tokenized_corpus, size=feature_size, window=window_context, \n",
        "                    min_count=min_word_count,sample=sample, sg=sg, iter=epochs)\n",
        "print(\"--- %s minutes ---\" % ((time.time() - start_time)/60))\n",
        "w2v = {w: vec for w, vec in zip(ft_model.wv.index2word, ft_model.wv.syn0)}\n",
        "\n",
        "word2vec = ft_model\n",
        "w2v_dim = len(w2v)\n",
        "\n",
        "def tf2vec_fit(X):\n",
        "    tfidf = TfidfVectorizer(sublinear_tf=True,strip_accents='unicode',analyzer=lambda x: x)\n",
        "    tfidf.fit(X)\n",
        "    # if a word was never seen - it must be at least as infrequent\n",
        "    # as any of the known words - so the default idf is the max of \n",
        "    # known idf's\n",
        "    max_idf = max(tfidf.idf_)\n",
        "    word2weight = defaultdict(\n",
        "        lambda: max_idf, \n",
        "        [(w, tfidf.idf_[i]) for w, i in tfidf.vocabulary_.items()])\n",
        "\n",
        "    return word2weight\n",
        "\n",
        "def tf2vec_transform(X, word2weight):\n",
        "    return [\n",
        "            np.mean([word2vec[w] * word2weight[w]\n",
        "                      for w in words if w in word2vec] or\n",
        "                    [np.zeros(w2v_dim)], axis=0)\n",
        "            for words in X\n",
        "        ]\n",
        "\n"
      ],
      "execution_count": 0,
      "outputs": []
    },
    {
      "cell_type": "code",
      "metadata": {
        "id": "4wPEbwbE3Qnt",
        "colab_type": "code",
        "outputId": "8e4fef39-ebd0-496e-abdb-ac2268a307fe",
        "colab": {
          "base_uri": "https://localhost:8080/",
          "height": 71
        }
      },
      "source": [
        "X = train['clean_comments_list']\n",
        "tf2vec_features = tf2vec_transform(X,tf2vec_fit(X))\n",
        "tf2vec_df = pd.DataFrame(tf2vec_features)\n",
        "#numpy.savetxt(\"tf2vec_features.csv\", tf2vec_features, delimiter=\",\")"
      ],
      "execution_count": 0,
      "outputs": [
        {
          "output_type": "stream",
          "text": [
            "/usr/local/lib/python3.6/dist-packages/ipykernel_launcher.py:36: DeprecationWarning: Call to deprecated `__contains__` (Method will be removed in 4.0.0, use self.wv.__contains__() instead).\n",
            "/usr/local/lib/python3.6/dist-packages/ipykernel_launcher.py:36: DeprecationWarning: Call to deprecated `__getitem__` (Method will be removed in 4.0.0, use self.wv.__getitem__() instead).\n"
          ],
          "name": "stderr"
        }
      ]
    },
    {
      "cell_type": "code",
      "metadata": {
        "id": "3mXaUO6pZ7x4",
        "colab_type": "code",
        "colab": {}
      },
      "source": [
        "tf2vec_matrix = np.concatenate(tf2vec_features, axis=0)\n",
        "tf2vec_matrix = sparse.csr_matrix(tf2vec_matrix)"
      ],
      "execution_count": 0,
      "outputs": []
    },
    {
      "cell_type": "code",
      "metadata": {
        "id": "cgqNA7dx3VwH",
        "colab_type": "code",
        "colab": {}
      },
      "source": [
        "from sklearn.base import BaseEstimator, ClassifierMixin\n",
        "from sklearn.utils.validation import check_X_y, check_is_fitted\n",
        "from sklearn.linear_model import LogisticRegression\n",
        "from scipy import sparse\n",
        "class NbSvmClassifier(BaseEstimator, ClassifierMixin):\n",
        "    def __init__(self, C=1.0, dual=False, n_jobs=1, multi_class='auto'):\n",
        "        self.C = C\n",
        "        self.dual = dual\n",
        "        self.n_jobs = n_jobs\n",
        "        self.multi_class = multi_class\n",
        "\n",
        "    def predict(self, x):\n",
        "        # Verify that model has been fit\n",
        "        #check_is_fitted(self, ['_r', '_clf'])\n",
        "        return self._clf.predict(x.multiply(self._r))\n",
        "\n",
        "    def predict_proba(self, x):\n",
        "        # Verify that model has been fit\n",
        "        #check_is_fitted(self, ['_r', '_clf'])\n",
        "        return self._clf.predict_proba(x.multiply(self._r))\n",
        "\n",
        "    def fit(self, x, y):\n",
        "        # Check that X and y have correct shape\n",
        "        y = y.values\n",
        "        # x, y = check_X_y(x, y, accept_sparse=True)\n",
        "\n",
        "        def pr(x, y_i, y):\n",
        "            p = x[y==y_i].sum(0)\n",
        "            return (p+1) / ((y==y_i).sum()+1)\n",
        "\n",
        "        self._r = sparse.csr_matrix(np.log(pr(x,1,y) / pr(x,0,y)))\n",
        "        x_nb = x.multiply(self._r)\n",
        "        self._clf = LogisticRegression(C=self.C, dual=self.dual, n_jobs=self.n_jobs).fit(x_nb, y)\n",
        "        return self"
      ],
      "execution_count": 0,
      "outputs": []
    },
    {
      "cell_type": "code",
      "metadata": {
        "id": "p3tTu71X3gUp",
        "colab_type": "code",
        "colab": {}
      },
      "source": [
        "training_features = tf2vec_matrix\n",
        "label_cols = ['toxic', 'severe_toxic', 'obscene', 'threat', 'insult', 'identity_hate']\n",
        "#train['none'] = 1-train[label_cols].max(axis=1)\n",
        "#preds = np.zeros((len(test), len(label_cols)))\n",
        "seed = 1234\n",
        "folds = StratifiedKFold(n_splits=5, shuffle=True, random_state=seed)\n",
        "n_rows = len(list(enumerate(folds.split(training_features, train['toxic'])))[0][1][0])\n",
        "preds = np.zeros((n_rows, len(class_names)))\n",
        "\n",
        "for i, j in enumerate(label_cols):\n",
        "    training_labels = train[j]\n",
        "    scores = []\n",
        "    for n_fold, (trn_idx, val_idx) in enumerate(folds.split(training_features, training_labels)):\n",
        "      model = NbSvmClassifier(C=4, dual=True, n_jobs=2, multi_class='ovr').fit(training_features[trn_idx], training_labels[trn_idx])\n",
        "      preds[:,i] = model.predict(training_features[val_idx].multiply(model._r))[:,1]\n",
        "      scores.append(roc_auc_score(training_labels[val_idx], preds[:,i]))\n",
        "    print('fit: ' + j + ' | score: ' + str(round(np.mean(scores,2))))\n",
        "\n",
        "\n"
      ],
      "execution_count": 0,
      "outputs": []
    },
    {
      "cell_type": "code",
      "metadata": {
        "id": "LNaBKLh8JyAt",
        "colab_type": "code",
        "colab": {}
      },
      "source": [
        "training_features = tf2vec_features.tocsr()\n",
        "seed = 1234\n",
        "folds = StratifiedKFold(n_splits=5, shuffle=True, random_state=seed)\n",
        "l = enumerate(folds.split(training_features, training_labels))\n",
        "#training_features[list(l)[1][1][0]]"
      ],
      "execution_count": 0,
      "outputs": []
    },
    {
      "cell_type": "code",
      "metadata": {
        "id": "fCN4qPVtZfPw",
        "colab_type": "code",
        "colab": {}
      },
      "source": [
        "ft_model.wv.most_similar(['weird'], topn=20)"
      ],
      "execution_count": 0,
      "outputs": []
    }
  ]
}